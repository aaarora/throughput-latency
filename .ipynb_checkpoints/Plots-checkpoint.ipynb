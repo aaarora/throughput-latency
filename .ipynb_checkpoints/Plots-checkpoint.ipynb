{
 "cells": [
  {
   "cell_type": "code",
   "execution_count": null,
   "metadata": {},
   "outputs": [],
   "source": [
    "import matplotlib.pyplot as plt\n",
    "import numpy as np\n",
    "import pandas as pd"
   ]
  },
  {
   "cell_type": "code",
   "execution_count": null,
   "metadata": {},
   "outputs": [],
   "source": [
    "# matplotlob params\n",
    "params = {'legend.fontsize': 'x-large',\n",
    "          'figure.dpi': 100,\n",
    "          'figure.figsize': (10, 6),\n",
    "          'axes.labelsize': 'x-large',\n",
    "          'axes.titlesize':'x-large',\n",
    "          'xtick.labelsize':'x-large',\n",
    "          'ytick.labelsize':'x-large'}\n",
    "plt.rcParams.update(params)"
   ]
  },
  {
   "cell_type": "code",
   "execution_count": null,
   "metadata": {},
   "outputs": [],
   "source": [
    "data = pd.read_csv('rates.csv',header=None)\n",
    "fig, ax = plt.subplots()\n",
    "ax.set_xlabel('Number of Concurrent Transfers')\n",
    "ax.set_ylabel('Throughput (in Gbits/s)')\n",
    "ax.grid(True, which='both')\n",
    "x_ran = np.linspace(1,13,13)\n",
    "ax.plot(x_ran,data[0],label='Local Copy (cp)',linewidth=3.0)\n",
    "ax.plot(x_ran,data[1],label='HTTPS TPC (curl -X COPY)',linewidth=3.0)\n",
    "ax.plot(x_ran,data[2],label='GridFTP TPC (globus-url-copy)',linewidth=3.0)\n",
    "ax.text(10, 105, 'Network Limit', fontsize=15)\n",
    "ax.set_xticks(x_ran)\n",
    "ax.plot(x_ran,100*np.ones(13),'--',linewidth=3.0)\n",
    "ax.legend()\n",
    "plt.savefig('TPC Max.png')"
   ]
  },
  {
   "cell_type": "code",
   "execution_count": null,
   "metadata": {},
   "outputs": [],
   "source": [
    "data = pd.read_csv('filesize.csv',header=None)\n",
    "fig, ax = plt.subplots()\n",
    "ax.set_xlabel('Number of Concurrent Transfers')\n",
    "ax.set_ylabel('Throughput (in Gbits/s)')\n",
    "ax.grid(True, which='both')\n",
    "x_ran = np.linspace(1,17,17)\n",
    "ax.plot(data[0],label='1GB',linewidth=3.0)\n",
    "ax.plot(data[1],label='2GB',linewidth=3.0)\n",
    "ax.plot(data[2],label='5GB',linewidth=3.0)\n",
    "ax.plot(data[3],label='10GB',linewidth=3.0)\n",
    "ax.set_xticks(x_ran)\n",
    "ax.legend()\n",
    "plt.savefig('FileSize Comp.png')"
   ]
  }
 ],
 "metadata": {
  "kernelspec": {
   "display_name": "Python 3",
   "language": "python",
   "name": "python3"
  },
  "language_info": {
   "codemirror_mode": {
    "name": "ipython",
    "version": 3
   },
   "file_extension": ".py",
   "mimetype": "text/x-python",
   "name": "python",
   "nbconvert_exporter": "python",
   "pygments_lexer": "ipython3",
   "version": "3.7.9"
  }
 },
 "nbformat": 4,
 "nbformat_minor": 4
}
